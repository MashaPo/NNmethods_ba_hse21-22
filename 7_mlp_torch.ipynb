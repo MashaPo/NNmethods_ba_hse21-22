{
  "nbformat": 4,
  "nbformat_minor": 0,
  "metadata": {
    "kernelspec": {
      "display_name": "Python 3",
      "language": "python",
      "name": "python3"
    },
    "language_info": {
      "codemirror_mode": {
        "name": "ipython",
        "version": 3
      },
      "file_extension": ".py",
      "mimetype": "text/x-python",
      "name": "python",
      "nbconvert_exporter": "python",
      "pygments_lexer": "ipython3",
      "version": "3.8.8"
    },
    "colab": {
      "name": "mlp_torch.ipynb",
      "provenance": [],
      "collapsed_sections": [
        "CTOkNNrdrsA9"
      ]
    },
    "accelerator": "GPU"
  },
  "cells": [
    {
      "cell_type": "markdown",
      "metadata": {
        "id": "iF98z0fxWwnL"
      },
      "source": [
        "При подготовке использовались [материалы](https://github.com/mannefedov/compling_nlp_hse_course/blob/master/2020/nn_intro_torch.ipynb) курса Михаила Нефедова"
      ]
    },
    {
      "cell_type": "code",
      "metadata": {
        "colab": {
          "base_uri": "https://localhost:8080/",
          "height": 908
        },
        "id": "NovB599mOf9T",
        "outputId": "1bcf63d2-1018-48de-bf84-47cbdaaf7fb2"
      },
      "source": [
        "!pip install ipdb"
      ],
      "execution_count": 1,
      "outputs": [
        {
          "output_type": "stream",
          "name": "stdout",
          "text": [
            "Collecting ipdb\n",
            "  Downloading ipdb-0.13.9.tar.gz (16 kB)\n",
            "Requirement already satisfied: setuptools in /usr/local/lib/python3.7/dist-packages (from ipdb) (57.4.0)\n",
            "Collecting ipython>=7.17.0\n",
            "  Downloading ipython-7.29.0-py3-none-any.whl (790 kB)\n",
            "\u001b[K     |████████████████████████████████| 790 kB 6.1 MB/s \n",
            "\u001b[?25hRequirement already satisfied: toml>=0.10.2 in /usr/local/lib/python3.7/dist-packages (from ipdb) (0.10.2)\n",
            "Requirement already satisfied: decorator in /usr/local/lib/python3.7/dist-packages (from ipdb) (4.4.2)\n",
            "Requirement already satisfied: pickleshare in /usr/local/lib/python3.7/dist-packages (from ipython>=7.17.0->ipdb) (0.7.5)\n",
            "Requirement already satisfied: jedi>=0.16 in /usr/local/lib/python3.7/dist-packages (from ipython>=7.17.0->ipdb) (0.18.1)\n",
            "Collecting prompt-toolkit!=3.0.0,!=3.0.1,<3.1.0,>=2.0.0\n",
            "  Downloading prompt_toolkit-3.0.22-py3-none-any.whl (374 kB)\n",
            "\u001b[K     |████████████████████████████████| 374 kB 26.1 MB/s \n",
            "\u001b[?25hRequirement already satisfied: pexpect>4.3 in /usr/local/lib/python3.7/dist-packages (from ipython>=7.17.0->ipdb) (4.8.0)\n",
            "Requirement already satisfied: pygments in /usr/local/lib/python3.7/dist-packages (from ipython>=7.17.0->ipdb) (2.6.1)\n",
            "Requirement already satisfied: matplotlib-inline in /usr/local/lib/python3.7/dist-packages (from ipython>=7.17.0->ipdb) (0.1.3)\n",
            "Requirement already satisfied: backcall in /usr/local/lib/python3.7/dist-packages (from ipython>=7.17.0->ipdb) (0.2.0)\n",
            "Requirement already satisfied: traitlets>=4.2 in /usr/local/lib/python3.7/dist-packages (from ipython>=7.17.0->ipdb) (5.1.1)\n",
            "Requirement already satisfied: parso<0.9.0,>=0.8.0 in /usr/local/lib/python3.7/dist-packages (from jedi>=0.16->ipython>=7.17.0->ipdb) (0.8.2)\n",
            "Requirement already satisfied: ptyprocess>=0.5 in /usr/local/lib/python3.7/dist-packages (from pexpect>4.3->ipython>=7.17.0->ipdb) (0.7.0)\n",
            "Requirement already satisfied: wcwidth in /usr/local/lib/python3.7/dist-packages (from prompt-toolkit!=3.0.0,!=3.0.1,<3.1.0,>=2.0.0->ipython>=7.17.0->ipdb) (0.2.5)\n",
            "Building wheels for collected packages: ipdb\n",
            "  Building wheel for ipdb (setup.py) ... \u001b[?25l\u001b[?25hdone\n",
            "  Created wheel for ipdb: filename=ipdb-0.13.9-py3-none-any.whl size=11648 sha256=4a2e069532c9940533030c8ebd45b6075c835089292a17fb8d1c931b31d571a0\n",
            "  Stored in directory: /root/.cache/pip/wheels/65/cd/cc/aaf92acae337a28fdd2aa4d632196a59745c8c39f76eaeed01\n",
            "Successfully built ipdb\n",
            "Installing collected packages: prompt-toolkit, ipython, ipdb\n",
            "  Attempting uninstall: prompt-toolkit\n",
            "    Found existing installation: prompt-toolkit 1.0.18\n",
            "    Uninstalling prompt-toolkit-1.0.18:\n",
            "      Successfully uninstalled prompt-toolkit-1.0.18\n",
            "  Attempting uninstall: ipython\n",
            "    Found existing installation: ipython 5.5.0\n",
            "    Uninstalling ipython-5.5.0:\n",
            "      Successfully uninstalled ipython-5.5.0\n",
            "\u001b[31mERROR: pip's dependency resolver does not currently take into account all the packages that are installed. This behaviour is the source of the following dependency conflicts.\n",
            "jupyter-console 5.2.0 requires prompt-toolkit<2.0.0,>=1.0.0, but you have prompt-toolkit 3.0.22 which is incompatible.\n",
            "google-colab 1.0.0 requires ipython~=5.5.0, but you have ipython 7.29.0 which is incompatible.\u001b[0m\n",
            "Successfully installed ipdb-0.13.9 ipython-7.29.0 prompt-toolkit-3.0.22\n"
          ]
        },
        {
          "output_type": "display_data",
          "data": {
            "application/vnd.colab-display-data+json": {
              "pip_warning": {
                "packages": [
                  "IPython",
                  "prompt_toolkit"
                ]
              }
            }
          },
          "metadata": {}
        }
      ]
    },
    {
      "cell_type": "code",
      "metadata": {
        "id": "CgiT9Xow1sd5"
      },
      "source": [
        "import pandas as pd\n",
        "import numpy as np\n",
        "from string import punctuation\n",
        "from collections import Counter\n",
        "\n",
        "from sklearn.model_selection import train_test_split\n",
        "from sklearn.utils import shuffle\n",
        "import torch\n",
        "import torch.nn as nn\n",
        "import torch.nn.functional as F\n",
        "from torch.utils.data import Dataset, DataLoader, RandomSampler, SequentialSampler\n",
        "from torch.nn.utils.rnn import pad_sequence\n",
        "import torch.optim as optim\n",
        "import ipdb"
      ],
      "execution_count": 2,
      "outputs": []
    },
    {
      "cell_type": "markdown",
      "metadata": {
        "id": "FfxNXovr1sd6"
      },
      "source": [
        "### Классификация твиттов по тональности\n",
        "\n"
      ]
    },
    {
      "cell_type": "markdown",
      "metadata": {
        "id": "sZtLedfF00Ih"
      },
      "source": [
        "#### Скачивание и подготовка данных"
      ]
    },
    {
      "cell_type": "code",
      "metadata": {
        "id": "VEBb-YaTR1os",
        "colab": {
          "base_uri": "https://localhost:8080/"
        },
        "outputId": "b3f61134-ef4f-4fe0-e1a1-a06baab263be"
      },
      "source": [
        "!wget -O positive.csv https://www.dropbox.com/s/fnpq3z4bcnoktiv/positive.csv?dl=0\n",
        "!wget -O negative.csv https://www.dropbox.com/s/r6u59ljhhjdg6j0/negative.csv?dl=0"
      ],
      "execution_count": 3,
      "outputs": [
        {
          "output_type": "stream",
          "name": "stdout",
          "text": [
            "--2021-11-22 17:07:19--  https://www.dropbox.com/s/fnpq3z4bcnoktiv/positive.csv?dl=0\n",
            "Resolving www.dropbox.com (www.dropbox.com)... 162.125.3.18, 2620:100:601b:18::a27d:812\n",
            "Connecting to www.dropbox.com (www.dropbox.com)|162.125.3.18|:443... connected.\n",
            "HTTP request sent, awaiting response... 301 Moved Permanently\n",
            "Location: /s/raw/fnpq3z4bcnoktiv/positive.csv [following]\n",
            "--2021-11-22 17:07:19--  https://www.dropbox.com/s/raw/fnpq3z4bcnoktiv/positive.csv\n",
            "Reusing existing connection to www.dropbox.com:443.\n",
            "HTTP request sent, awaiting response... 302 Found\n",
            "Location: https://uc0aa2627f9d565fed7467d074d6.dl.dropboxusercontent.com/cd/0/inline/BaeJP4sPVI-yhq51YjCAiepn6INqFUesEfIJT-brZrF-hTKDmR78KrO3QIELr7hHtwebDOVZN725A2sw4gkocS99cSzzzNbRfNBpq8Db6Z6NCJFlQGrfo6MVuTHF-8904V-wWJqv4u0kHzRIEX033Rre/file# [following]\n",
            "--2021-11-22 17:07:19--  https://uc0aa2627f9d565fed7467d074d6.dl.dropboxusercontent.com/cd/0/inline/BaeJP4sPVI-yhq51YjCAiepn6INqFUesEfIJT-brZrF-hTKDmR78KrO3QIELr7hHtwebDOVZN725A2sw4gkocS99cSzzzNbRfNBpq8Db6Z6NCJFlQGrfo6MVuTHF-8904V-wWJqv4u0kHzRIEX033Rre/file\n",
            "Resolving uc0aa2627f9d565fed7467d074d6.dl.dropboxusercontent.com (uc0aa2627f9d565fed7467d074d6.dl.dropboxusercontent.com)... 162.125.3.15, 2620:100:6021:15::a27d:410f\n",
            "Connecting to uc0aa2627f9d565fed7467d074d6.dl.dropboxusercontent.com (uc0aa2627f9d565fed7467d074d6.dl.dropboxusercontent.com)|162.125.3.15|:443... connected.\n",
            "HTTP request sent, awaiting response... 200 OK\n",
            "Length: 26233379 (25M) [text/plain]\n",
            "Saving to: ‘positive.csv’\n",
            "\n",
            "positive.csv        100%[===================>]  25.02M  72.0MB/s    in 0.3s    \n",
            "\n",
            "2021-11-22 17:07:20 (72.0 MB/s) - ‘positive.csv’ saved [26233379/26233379]\n",
            "\n",
            "--2021-11-22 17:07:20--  https://www.dropbox.com/s/r6u59ljhhjdg6j0/negative.csv?dl=0\n",
            "Resolving www.dropbox.com (www.dropbox.com)... 162.125.3.18, 2620:100:601b:18::a27d:812\n",
            "Connecting to www.dropbox.com (www.dropbox.com)|162.125.3.18|:443... connected.\n",
            "HTTP request sent, awaiting response... 301 Moved Permanently\n",
            "Location: /s/raw/r6u59ljhhjdg6j0/negative.csv [following]\n",
            "--2021-11-22 17:07:20--  https://www.dropbox.com/s/raw/r6u59ljhhjdg6j0/negative.csv\n",
            "Reusing existing connection to www.dropbox.com:443.\n",
            "HTTP request sent, awaiting response... 302 Found\n",
            "Location: https://uc732a3e6268b2a4ab93b513aca6.dl.dropboxusercontent.com/cd/0/inline/BaeFKM9l0TlQ9_LKPYBoT_kXZfIfJT9mSZR9PiYhw9ct5coYvZkZl37rz0TzOP2OaQSg67IxFTsmqUL9Vq11SzBMndqrs5UkH8ezKdSM94WglqWGOpgwNqxQepb-TD_Xb4iKCMnCNhNqSJE23ZHjWXN5/file# [following]\n",
            "--2021-11-22 17:07:21--  https://uc732a3e6268b2a4ab93b513aca6.dl.dropboxusercontent.com/cd/0/inline/BaeFKM9l0TlQ9_LKPYBoT_kXZfIfJT9mSZR9PiYhw9ct5coYvZkZl37rz0TzOP2OaQSg67IxFTsmqUL9Vq11SzBMndqrs5UkH8ezKdSM94WglqWGOpgwNqxQepb-TD_Xb4iKCMnCNhNqSJE23ZHjWXN5/file\n",
            "Resolving uc732a3e6268b2a4ab93b513aca6.dl.dropboxusercontent.com (uc732a3e6268b2a4ab93b513aca6.dl.dropboxusercontent.com)... 162.125.3.15, 2620:100:6021:15::a27d:410f\n",
            "Connecting to uc732a3e6268b2a4ab93b513aca6.dl.dropboxusercontent.com (uc732a3e6268b2a4ab93b513aca6.dl.dropboxusercontent.com)|162.125.3.15|:443... connected.\n",
            "HTTP request sent, awaiting response... 200 OK\n",
            "Length: 24450101 (23M) [text/plain]\n",
            "Saving to: ‘negative.csv’\n",
            "\n",
            "negative.csv        100%[===================>]  23.32M  73.5MB/s    in 0.3s    \n",
            "\n",
            "2021-11-22 17:07:21 (73.5 MB/s) - ‘negative.csv’ saved [24450101/24450101]\n",
            "\n"
          ]
        }
      ]
    },
    {
      "cell_type": "code",
      "metadata": {
        "id": "q6WWZiab6rTw"
      },
      "source": [
        "pos_tweets = pd.read_csv('positive.csv', encoding='utf-8', sep=';', header=None,  names=[0,1,2,'text','tone',5,6,7,8,9,10,11])"
      ],
      "execution_count": 4,
      "outputs": []
    },
    {
      "cell_type": "code",
      "metadata": {
        "id": "Sq86SbhB69yc"
      },
      "source": [
        "neg_tweets = pd.read_csv('negative.csv', encoding='utf-8', sep=';', header=None, names=[0,1,2,'text','tone',5,6,7,8,9,10,11] )\n",
        "neg_tweets['tone'] = 0"
      ],
      "execution_count": 5,
      "outputs": []
    },
    {
      "cell_type": "code",
      "metadata": {
        "id": "nCIj1hmt1sd8",
        "colab": {
          "base_uri": "https://localhost:8080/"
        },
        "outputId": "769b190e-79dd-4ce8-9255-e52f5c9b1e13"
      },
      "source": [
        "all_tweets_data = pos_tweets.append(neg_tweets)\n",
        "print(len(all_tweets_data))"
      ],
      "execution_count": 6,
      "outputs": [
        {
          "output_type": "stream",
          "name": "stdout",
          "text": [
            "226834\n"
          ]
        }
      ]
    },
    {
      "cell_type": "code",
      "metadata": {
        "id": "7J8hlg46D73C"
      },
      "source": [
        "tweets_data = shuffle(all_tweets_data[['text','tone']])[:100000]"
      ],
      "execution_count": 7,
      "outputs": []
    },
    {
      "cell_type": "code",
      "metadata": {
        "id": "_JYJtXCaERbb"
      },
      "source": [
        "train_sentences, val_sentences = train_test_split(tweets_data, test_size=0.1)"
      ],
      "execution_count": 8,
      "outputs": []
    },
    {
      "cell_type": "code",
      "metadata": {
        "colab": {
          "base_uri": "https://localhost:8080/",
          "height": 362
        },
        "id": "j0akXE9bPSGs",
        "outputId": "9701488b-e4aa-4446-d9a7-ade2e9641817"
      },
      "source": [
        "train_sentences[:10]"
      ],
      "execution_count": 9,
      "outputs": [
        {
          "output_type": "execute_result",
          "data": {
            "text/html": [
              "<div>\n",
              "<style scoped>\n",
              "    .dataframe tbody tr th:only-of-type {\n",
              "        vertical-align: middle;\n",
              "    }\n",
              "\n",
              "    .dataframe tbody tr th {\n",
              "        vertical-align: top;\n",
              "    }\n",
              "\n",
              "    .dataframe thead th {\n",
              "        text-align: right;\n",
              "    }\n",
              "</style>\n",
              "<table border=\"1\" class=\"dataframe\">\n",
              "  <thead>\n",
              "    <tr style=\"text-align: right;\">\n",
              "      <th></th>\n",
              "      <th>text</th>\n",
              "      <th>tone</th>\n",
              "    </tr>\n",
              "  </thead>\n",
              "  <tbody>\n",
              "    <tr>\n",
              "      <th>94228</th>\n",
              "      <td>раз у меня есть, значит всем уже дали :D http:...</td>\n",
              "      <td>1</td>\n",
              "    </tr>\n",
              "    <tr>\n",
              "      <th>37349</th>\n",
              "      <td>RT @voqifumykag: Котэ внезапно начало оставлят...</td>\n",
              "      <td>1</td>\n",
              "    </tr>\n",
              "    <tr>\n",
              "      <th>75264</th>\n",
              "      <td>Интересная реакция мужа- рот открыт,глаза выпу...</td>\n",
              "      <td>1</td>\n",
              "    </tr>\n",
              "    <tr>\n",
              "      <th>1585</th>\n",
              "      <td>RT @hrus_tyash: бедного парнишу замуучили(</td>\n",
              "      <td>0</td>\n",
              "    </tr>\n",
              "    <tr>\n",
              "      <th>36136</th>\n",
              "      <td>RT @ytaxohaxe: я опять еду в тамбов, блин :(</td>\n",
              "      <td>0</td>\n",
              "    </tr>\n",
              "    <tr>\n",
              "      <th>98373</th>\n",
              "      <td>@Batsugar1 би фб скрийншотд өртчихлөө  боллоо....</td>\n",
              "      <td>0</td>\n",
              "    </tr>\n",
              "    <tr>\n",
              "      <th>23520</th>\n",
              "      <td>RT @Creative_Link: Дождались! Официальный трей...</td>\n",
              "      <td>1</td>\n",
              "    </tr>\n",
              "    <tr>\n",
              "      <th>89674</th>\n",
              "      <td>@Senkovich_ не я боюсь лесников)))они страшные...</td>\n",
              "      <td>1</td>\n",
              "    </tr>\n",
              "    <tr>\n",
              "      <th>1874</th>\n",
              "      <td>@aluanten тоже самое, только температура побол...</td>\n",
              "      <td>0</td>\n",
              "    </tr>\n",
              "    <tr>\n",
              "      <th>43216</th>\n",
              "      <td>http://t.co/kABeb5xjPZ Если взять кусок бумаги...</td>\n",
              "      <td>1</td>\n",
              "    </tr>\n",
              "  </tbody>\n",
              "</table>\n",
              "</div>"
            ],
            "text/plain": [
              "                                                    text  tone\n",
              "94228  раз у меня есть, значит всем уже дали :D http:...     1\n",
              "37349  RT @voqifumykag: Котэ внезапно начало оставлят...     1\n",
              "75264  Интересная реакция мужа- рот открыт,глаза выпу...     1\n",
              "1585          RT @hrus_tyash: бедного парнишу замуучили(     0\n",
              "36136       RT @ytaxohaxe: я опять еду в тамбов, блин :(     0\n",
              "98373  @Batsugar1 би фб скрийншотд өртчихлөө  боллоо....     0\n",
              "23520  RT @Creative_Link: Дождались! Официальный трей...     1\n",
              "89674  @Senkovich_ не я боюсь лесников)))они страшные...     1\n",
              "1874   @aluanten тоже самое, только температура побол...     0\n",
              "43216  http://t.co/kABeb5xjPZ Если взять кусок бумаги...     1"
            ]
          },
          "metadata": {},
          "execution_count": 9
        }
      ]
    },
    {
      "cell_type": "code",
      "metadata": {
        "id": "a8DdyDMU1sd-"
      },
      "source": [
        "def preprocess(text):\n",
        "    tokens = text.lower().split()\n",
        "    tokens = [token.strip(punctuation) for token in tokens]\n",
        "    return tokens"
      ],
      "execution_count": 10,
      "outputs": []
    },
    {
      "cell_type": "markdown",
      "metadata": {
        "id": "h-q1JHzW1sd-"
      },
      "source": [
        "Теперь нам нужно собрать все уникальные слова в словарь. Лучше сразу посчитать количество упоминаний, чтобы отсеять самые редкие."
      ]
    },
    {
      "cell_type": "code",
      "metadata": {
        "id": "T8t4nDCR1sd-",
        "colab": {
          "base_uri": "https://localhost:8080/"
        },
        "outputId": "7784301f-2abd-4c43-9ae3-ac8295154805"
      },
      "source": [
        "vocab = Counter()\n",
        "\n",
        "for text in tweets_data['text']:\n",
        "    vocab.update(preprocess(text))\n",
        "print('всего уникальных токенов:', len(vocab))"
      ],
      "execution_count": 11,
      "outputs": [
        {
          "output_type": "stream",
          "name": "stdout",
          "text": [
            "всего уникальных токенов: 202260\n"
          ]
        }
      ]
    },
    {
      "cell_type": "code",
      "metadata": {
        "id": "0wKHM_LU1seA",
        "colab": {
          "base_uri": "https://localhost:8080/"
        },
        "outputId": "8c2a2ea8-3473-4efd-9dbf-bc704ca28ed6"
      },
      "source": [
        "filtered_vocab = set()\n",
        "\n",
        "for word in vocab:\n",
        "    if vocab[word] > 2:\n",
        "        filtered_vocab.add(word)\n",
        "print('уникальных токенов, втретившихся больше 2 раз:', len(filtered_vocab))"
      ],
      "execution_count": 12,
      "outputs": [
        {
          "output_type": "stream",
          "name": "stdout",
          "text": [
            "уникальных токенов, втретившихся больше 2 раз: 32447\n"
          ]
        }
      ]
    },
    {
      "cell_type": "code",
      "metadata": {
        "id": "BEUhJv5N1seC"
      },
      "source": [
        "#создаем словарь с индексами word2id, для спецсимвола паддинга дефолтный индекс - 0\n",
        "word2id = {'PAD':0}\n",
        "\n",
        "for word in filtered_vocab:\n",
        "    word2id[word] = len(word2id)"
      ],
      "execution_count": 13,
      "outputs": []
    },
    {
      "cell_type": "code",
      "metadata": {
        "id": "P6J89I9d1seC"
      },
      "source": [
        "#обратный словарь для того, чтобы раскодировать последовательность\n",
        "id2word = {i:word for word, i in word2id.items()}"
      ],
      "execution_count": 14,
      "outputs": []
    },
    {
      "cell_type": "code",
      "metadata": {
        "colab": {
          "base_uri": "https://localhost:8080/"
        },
        "id": "YrzM7MnCQeP_",
        "outputId": "fdd46d22-8f06-48eb-cddf-bec4393de4b4"
      },
      "source": [
        "DEVICE = torch.device('cuda') if torch.cuda.is_available() else torch.device('cpu')\n",
        "DEVICE\n"
      ],
      "execution_count": 15,
      "outputs": [
        {
          "output_type": "execute_result",
          "data": {
            "text/plain": [
              "device(type='cuda')"
            ]
          },
          "metadata": {},
          "execution_count": 15
        }
      ]
    },
    {
      "cell_type": "markdown",
      "metadata": {
        "id": "wwYqFI2V1seC"
      },
      "source": [
        "#### паддинги"
      ]
    },
    {
      "cell_type": "code",
      "metadata": {
        "id": "ZyQRVkaU1seD",
        "colab": {
          "base_uri": "https://localhost:8080/"
        },
        "outputId": "98ce3fd8-913a-47c7-d6db-b5f54d68f2b3"
      },
      "source": [
        "MAX_LEN = 0\n",
        "\n",
        "for text in tweets_data.text:\n",
        "    tokens = preprocess(text)\n",
        "    MAX_LEN = max(len(tokens), MAX_LEN)\n",
        "MAX_LEN"
      ],
      "execution_count": 16,
      "outputs": [
        {
          "output_type": "execute_result",
          "data": {
            "text/plain": [
              "40"
            ]
          },
          "metadata": {},
          "execution_count": 16
        }
      ]
    },
    {
      "cell_type": "markdown",
      "metadata": {
        "id": "F-I5GJSh1seF"
      },
      "source": [
        "##### F.pad \n",
        "паддим каждую последовательность до желаемой длины"
      ]
    },
    {
      "cell_type": "code",
      "metadata": {
        "id": "XVpo8mLL1seF"
      },
      "source": [
        "\n",
        "X = torch.LongTensor(size=(train_sentences.shape[0], MAX_LEN))\n",
        "\n",
        "for i, text in enumerate(train_sentences.text):\n",
        "    tokens = preprocess(text) # токенизируем\n",
        "    \n",
        "    ids = [word2id[token] for token in tokens if token in word2id][:MAX_LEN]\n",
        "\n",
        "    ids = F.pad(torch.LongTensor(ids), (0,MAX_LEN-len(ids)))\n",
        "    X[i] = ids"
      ],
      "execution_count": 17,
      "outputs": []
    },
    {
      "cell_type": "code",
      "metadata": {
        "id": "8yLHfFi81seF",
        "colab": {
          "base_uri": "https://localhost:8080/"
        },
        "outputId": "5647214a-871f-4a66-c734-c69cb53e8311"
      },
      "source": [
        "print(X[4].shape)\n",
        "print(X[4])\n",
        "print([id2word[int(id_)] for id_ in  X[4]])"
      ],
      "execution_count": 18,
      "outputs": [
        {
          "output_type": "stream",
          "name": "stdout",
          "text": [
            "torch.Size([40])\n",
            "tensor([20550, 30646,  1260,  8255, 18768, 24914, 28587,     1,     0,     0,\n",
            "            0,     0,     0,     0,     0,     0,     0,     0,     0,     0,\n",
            "            0,     0,     0,     0,     0,     0,     0,     0,     0,     0,\n",
            "            0,     0,     0,     0,     0,     0,     0,     0,     0,     0])\n",
            "['rt', 'я', 'опять', 'еду', 'в', 'тамбов', 'блин', '', 'PAD', 'PAD', 'PAD', 'PAD', 'PAD', 'PAD', 'PAD', 'PAD', 'PAD', 'PAD', 'PAD', 'PAD', 'PAD', 'PAD', 'PAD', 'PAD', 'PAD', 'PAD', 'PAD', 'PAD', 'PAD', 'PAD', 'PAD', 'PAD', 'PAD', 'PAD', 'PAD', 'PAD', 'PAD', 'PAD', 'PAD', 'PAD']\n"
          ]
        }
      ]
    },
    {
      "cell_type": "markdown",
      "metadata": {
        "id": "PXTjauwg1seG"
      },
      "source": [
        "##### torch.nn.utils.rnn.pad_sequence\n",
        "альтернатива - добиваем паддингами до самого длинного предложения из переданных"
      ]
    },
    {
      "cell_type": "code",
      "metadata": {
        "id": "GlQ-yu7w1seG"
      },
      "source": [
        "X = []\n",
        "\n",
        "for text in train_sentences.text:\n",
        "    tokens = preprocess(text) \n",
        "    ids = torch.LongTensor([word2id[token] for token in tokens if token in word2id]) \n",
        "    X.append(ids)"
      ],
      "execution_count": 19,
      "outputs": []
    },
    {
      "cell_type": "code",
      "metadata": {
        "id": "pU3KmLJ21seG",
        "colab": {
          "base_uri": "https://localhost:8080/"
        },
        "outputId": "0da55269-1887-4998-cb5b-9f2f3bb15ffc"
      },
      "source": [
        "X = pad_sequence(X, batch_first=True) \n",
        "X.shape"
      ],
      "execution_count": 20,
      "outputs": [
        {
          "output_type": "execute_result",
          "data": {
            "text/plain": [
              "torch.Size([90000, 39])"
            ]
          },
          "metadata": {},
          "execution_count": 20
        }
      ]
    },
    {
      "cell_type": "code",
      "metadata": {
        "id": "pbeogUEq1seH"
      },
      "source": [
        "X = X[:, :5] # если хочется обрезать короче"
      ],
      "execution_count": 21,
      "outputs": []
    },
    {
      "cell_type": "code",
      "metadata": {
        "colab": {
          "base_uri": "https://localhost:8080/"
        },
        "id": "LLIbatumj8ts",
        "outputId": "990524ed-536c-4dd6-ff3f-e766b82718c5"
      },
      "source": [
        "X.shape"
      ],
      "execution_count": 22,
      "outputs": [
        {
          "output_type": "execute_result",
          "data": {
            "text/plain": [
              "torch.Size([90000, 5])"
            ]
          },
          "metadata": {},
          "execution_count": 22
        }
      ]
    },
    {
      "cell_type": "markdown",
      "metadata": {
        "id": "obiXRWLt1OZJ"
      },
      "source": [
        "#### Dataset & DataLoader"
      ]
    },
    {
      "cell_type": "code",
      "metadata": {
        "id": "FMs4ZohJ1seI"
      },
      "source": [
        "class TweetsDataset(Dataset):\n",
        "\n",
        "    def __init__(self, dataset, word2id, DEVICE):\n",
        "        self.dataset = dataset['text'].values\n",
        "        self.word2id = word2id\n",
        "        self.length = dataset.shape[0]\n",
        "        self.target = dataset['tone'].values\n",
        "        self.device = DEVICE\n",
        "\n",
        "    def __len__(self): #это обязательный метод, он должен уметь считать длину датасета\n",
        "        return self.length\n",
        "\n",
        "    def __getitem__(self, index): #еще один обязательный метод. По индексу возвращает элемент выборки\n",
        "        tokens = self.preprocess(self.dataset[index]) # токенизируем\n",
        "        ids = torch.LongTensor([self.word2id[token] for token in tokens if token in self.word2id])\n",
        "        y = [self.target[index]]\n",
        "        return ids, y\n",
        "    \n",
        "    def preprocess(self, text):\n",
        "        tokens = text.lower().split()\n",
        "        tokens = [token.strip(punctuation) for token in tokens]\n",
        "        tokens = [token for token in tokens if token]\n",
        "        return tokens\n",
        "\n",
        "    def collate_fn(self, batch): #этот метод можно реализовывать и отдельно,\n",
        "    # он понадобится для DataLoader во время итерации по батчам\n",
        "      ids, y = list(zip(*batch))\n",
        "      padded_ids = pad_sequence(ids, batch_first=True).to(self.device)\n",
        "      #мы хотим применять BCELoss, он будет брать на вход predicted размера batch_size x 1 (так как для каждого семпла модель будет отдавать одно число), target размера batch_size x 1\n",
        "      y = torch.Tensor(y).to(self.device) # tuple ([1], [0], [1])  -> Tensor [[1.], [0.], [1.]] \n",
        "      return padded_ids, y"
      ],
      "execution_count": 44,
      "outputs": []
    },
    {
      "cell_type": "markdown",
      "metadata": {
        "id": "m5Wjfyxar7U1"
      },
      "source": [
        "##### создаем итераторы по данным для трейна и теста"
      ]
    },
    {
      "cell_type": "code",
      "metadata": {
        "id": "8Zl4FxB71seI"
      },
      "source": [
        "train_dataset = TweetsDataset(train_sentences, word2id, DEVICE)\n",
        "train_sampler = RandomSampler(train_dataset)\n",
        "train_iterator = DataLoader(train_dataset, collate_fn = train_dataset.collate_fn, sampler=train_sampler, batch_size=1024)"
      ],
      "execution_count": 50,
      "outputs": []
    },
    {
      "cell_type": "code",
      "metadata": {
        "colab": {
          "base_uri": "https://localhost:8080/"
        },
        "id": "N9cB8gEijwRU",
        "outputId": "9957cbd1-7f96-4435-a494-d872d4552c26"
      },
      "source": [
        "len(train_iterator)"
      ],
      "execution_count": 51,
      "outputs": [
        {
          "output_type": "execute_result",
          "data": {
            "text/plain": [
              "88"
            ]
          },
          "metadata": {},
          "execution_count": 51
        }
      ]
    },
    {
      "cell_type": "code",
      "metadata": {
        "id": "xauLXZwQNcCq"
      },
      "source": [
        "batch = next(iter(train_iterator))"
      ],
      "execution_count": 52,
      "outputs": []
    },
    {
      "cell_type": "code",
      "metadata": {
        "colab": {
          "base_uri": "https://localhost:8080/"
        },
        "id": "aZbD27_A6Nck",
        "outputId": "2eb85346-44ea-413d-91ce-a57ccea87a9c"
      },
      "source": [
        "batch"
      ],
      "execution_count": 53,
      "outputs": [
        {
          "output_type": "execute_result",
          "data": {
            "text/plain": [
              "(tensor([[ 2531, 19148, 23453,  ...,     0,     0,     0],\n",
              "         [20550, 14169,  5054,  ...,     0,     0,     0],\n",
              "         [ 3571,  4693,  3343,  ...,     0,     0,     0],\n",
              "         ...,\n",
              "         [  839, 10022,  5183,  ...,     0,     0,     0],\n",
              "         [25139, 11284, 26991,  ...,     0,     0,     0],\n",
              "         [20550, 16833, 18768,  ...,     0,     0,     0]], device='cuda:0'),\n",
              " tensor([[0.],\n",
              "         [1.],\n",
              "         [1.],\n",
              "         ...,\n",
              "         [0.],\n",
              "         [0.],\n",
              "         [1.]], device='cuda:0'))"
            ]
          },
          "metadata": {},
          "execution_count": 53
        }
      ]
    },
    {
      "cell_type": "code",
      "metadata": {
        "id": "ZR_upb-_1seJ"
      },
      "source": [
        "val_dataset = TweetsDataset(val_sentences, word2id, DEVICE)\n",
        "val_sampler = SequentialSampler(val_dataset)\n",
        "val_iterator = DataLoader(val_dataset, collate_fn = val_dataset.collate_fn, sampler=val_sampler, batch_size=1024)"
      ],
      "execution_count": 54,
      "outputs": []
    },
    {
      "cell_type": "code",
      "metadata": {
        "id": "jQlpcUR28V-j"
      },
      "source": [
        "test_batch = next(iter(val_iterator))"
      ],
      "execution_count": 55,
      "outputs": []
    },
    {
      "cell_type": "markdown",
      "metadata": {
        "id": "xN5tyh7ggvIO"
      },
      "source": [
        "#### Embedding  слой\n",
        "перед тем как собрать сеть целиком посмотрим на слои, которые пока не обсуждались\n"
      ]
    },
    {
      "cell_type": "code",
      "metadata": {
        "id": "gUkLVZPVf6uA"
      },
      "source": [
        "\n",
        "layer = nn.Embedding(10, 5) # первый параметр  - размер всего словаря, второй параметр размер получаемого эмбеддинга"
      ],
      "execution_count": 56,
      "outputs": []
    },
    {
      "cell_type": "code",
      "metadata": {
        "colab": {
          "base_uri": "https://localhost:8080/"
        },
        "id": "oCEoKFd4gdBP",
        "outputId": "b2ab3c41-fcb6-4414-d7cc-d3483eedd83a"
      },
      "source": [
        "layer.weight"
      ],
      "execution_count": 57,
      "outputs": [
        {
          "output_type": "execute_result",
          "data": {
            "text/plain": [
              "Parameter containing:\n",
              "tensor([[-0.1129,  1.0160, -0.4580,  0.5245, -1.4977],\n",
              "        [-0.4549,  0.2672, -1.6197,  0.5033,  0.8799],\n",
              "        [-0.0406, -1.0851, -0.4708,  0.8817, -0.2708],\n",
              "        [ 1.0036,  0.0828,  2.3485, -0.8574, -0.5525],\n",
              "        [ 1.6242,  1.0012,  1.0595, -1.1719, -0.4508],\n",
              "        [ 1.7854,  1.0629, -0.5048, -1.9477, -0.0156],\n",
              "        [ 1.4465,  0.3000, -1.6910,  0.7483, -1.9134],\n",
              "        [ 1.3914,  0.5289, -1.8733, -0.2444,  0.3824],\n",
              "        [ 0.6322,  1.7238,  1.4260,  2.0190,  0.6332],\n",
              "        [-0.5506,  0.8102,  0.7116,  0.1787, -0.2447]], requires_grad=True)"
            ]
          },
          "metadata": {},
          "execution_count": 57
        }
      ]
    },
    {
      "cell_type": "code",
      "metadata": {
        "colab": {
          "base_uri": "https://localhost:8080/"
        },
        "id": "spQ6QW-pk0JR",
        "outputId": "175ef898-f8b1-45a5-d54c-a70292604794"
      },
      "source": [
        "input = torch.tensor([1, 4, 3, 3, 7, 0, 9])\n",
        "result = layer(input)\n",
        "result"
      ],
      "execution_count": 58,
      "outputs": [
        {
          "output_type": "execute_result",
          "data": {
            "text/plain": [
              "tensor([[-0.4549,  0.2672, -1.6197,  0.5033,  0.8799],\n",
              "        [ 1.6242,  1.0012,  1.0595, -1.1719, -0.4508],\n",
              "        [ 1.0036,  0.0828,  2.3485, -0.8574, -0.5525],\n",
              "        [ 1.0036,  0.0828,  2.3485, -0.8574, -0.5525],\n",
              "        [ 1.3914,  0.5289, -1.8733, -0.2444,  0.3824],\n",
              "        [-0.1129,  1.0160, -0.4580,  0.5245, -1.4977],\n",
              "        [-0.5506,  0.8102,  0.7116,  0.1787, -0.2447]],\n",
              "       grad_fn=<EmbeddingBackward0>)"
            ]
          },
          "metadata": {},
          "execution_count": 58
        }
      ]
    },
    {
      "cell_type": "markdown",
      "metadata": {
        "id": "cmDPByEWoq0n"
      },
      "source": [
        "#### Dropout"
      ]
    },
    {
      "cell_type": "code",
      "metadata": {
        "id": "4g016LuzkcvY"
      },
      "source": [
        "\n",
        "dropout = nn.Dropout(p=0.5)"
      ],
      "execution_count": 59,
      "outputs": []
    },
    {
      "cell_type": "code",
      "metadata": {
        "colab": {
          "base_uri": "https://localhost:8080/"
        },
        "id": "5UMarRwiKtq1",
        "outputId": "1f57d46f-f224-4cfe-d1e7-3c4fa46ff16e"
      },
      "source": [
        "result"
      ],
      "execution_count": 60,
      "outputs": [
        {
          "output_type": "execute_result",
          "data": {
            "text/plain": [
              "tensor([[-0.4549,  0.2672, -1.6197,  0.5033,  0.8799],\n",
              "        [ 1.6242,  1.0012,  1.0595, -1.1719, -0.4508],\n",
              "        [ 1.0036,  0.0828,  2.3485, -0.8574, -0.5525],\n",
              "        [ 1.0036,  0.0828,  2.3485, -0.8574, -0.5525],\n",
              "        [ 1.3914,  0.5289, -1.8733, -0.2444,  0.3824],\n",
              "        [-0.1129,  1.0160, -0.4580,  0.5245, -1.4977],\n",
              "        [-0.5506,  0.8102,  0.7116,  0.1787, -0.2447]],\n",
              "       grad_fn=<EmbeddingBackward0>)"
            ]
          },
          "metadata": {},
          "execution_count": 60
        }
      ]
    },
    {
      "cell_type": "code",
      "metadata": {
        "colab": {
          "base_uri": "https://localhost:8080/"
        },
        "id": "SaBowijfkoHy",
        "outputId": "9a8de483-66d2-4796-87a7-5342c6813bf5"
      },
      "source": [
        "dropout(result)"
      ],
      "execution_count": 61,
      "outputs": [
        {
          "output_type": "execute_result",
          "data": {
            "text/plain": [
              "tensor([[-0.0000,  0.0000, -0.0000,  1.0066,  1.7598],\n",
              "        [ 3.2485,  2.0024,  0.0000, -2.3439, -0.9016],\n",
              "        [ 0.0000,  0.0000,  0.0000, -1.7149, -0.0000],\n",
              "        [ 0.0000,  0.0000,  0.0000, -1.7149, -0.0000],\n",
              "        [ 2.7828,  1.0578, -0.0000, -0.0000,  0.0000],\n",
              "        [-0.0000,  0.0000, -0.0000,  1.0491, -2.9955],\n",
              "        [-0.0000,  0.0000,  0.0000,  0.3575, -0.0000]], grad_fn=<MulBackward0>)"
            ]
          },
          "metadata": {},
          "execution_count": 61
        }
      ]
    },
    {
      "cell_type": "markdown",
      "metadata": {
        "id": "BUCT8ayD1seK"
      },
      "source": [
        "#### MLP model"
      ]
    },
    {
      "cell_type": "code",
      "metadata": {
        "id": "NdV7oSIc1seK"
      },
      "source": [
        "class MLP(nn.Module):\n",
        "    \n",
        "    def __init__(self, vocab_size, embedding_dim):\n",
        "        \n",
        "        super().__init__()          \n",
        "        # указываем в атрибутах класса, какие слои и активации нам понадобятся\n",
        "        self.embedding = nn.Embedding(vocab_size, embedding_dim)\n",
        "        self.emb2h = nn.Linear(embedding_dim, 10) \n",
        "        self.act1 = nn.ReLU()\n",
        "        self.dropout = nn.Dropout(p=0.5)\n",
        "        self.h2out = nn.Linear(10, 1)\n",
        "        self.act2 = nn.Sigmoid()\n",
        "        \n",
        "        \n",
        "    def forward(self, text): #необходимый метод,  в нем указываем, как именно связываются слои/активации между собой\n",
        "        # batch_size x seq_len\n",
        "        #ipdb.set_trace()\n",
        "        embedded = self.embedding(text)   # переводим последовательность индексов в последовательность эмбеддингов\n",
        "        # batch_size x seq_len x embedding_dim\n",
        "        \n",
        "        mean_emb = torch.mean(embedded, dim=1) # считаем средний эмбеддинг предложения\n",
        "        # batch_size x embedding_dim\n",
        "        hidden = self.emb2h(mean_emb) # пропускаем эмбеддинг через полносвязный слой \n",
        "        # batch_size x 10\n",
        "        hidden = self.act1(hidden)\n",
        "        # batch_size x 10\n",
        "        hidden = self.dropout(hidden)\n",
        "        # batch_size x 10\n",
        "        out = self.h2out(hidden) # возвращаем одно число для каждого семпла\n",
        "        # batch_size x 1\n",
        "        proba = self.act2(out) # пропускаем число через сигмоиду, делая из него вероятность класса\n",
        "        # batch_size x 1\n",
        "        return proba"
      ],
      "execution_count": 62,
      "outputs": []
    },
    {
      "cell_type": "code",
      "metadata": {
        "colab": {
          "base_uri": "https://localhost:8080/"
        },
        "id": "YFQ-WEY4cxkv",
        "outputId": "e2db59e9-fcf6-4344-f653-3cbee0ccad5e"
      },
      "source": [
        "batch, y = next(iter(train_iterator))\n",
        "batch, y = batch.to(device='cpu'), y.to(device='cpu')\n",
        "print(batch.shape)\n",
        "print(y.shape)"
      ],
      "execution_count": 66,
      "outputs": [
        {
          "output_type": "stream",
          "name": "stdout",
          "text": [
            "torch.Size([1024, 26])\n",
            "torch.Size([1024, 1])\n"
          ]
        }
      ]
    },
    {
      "cell_type": "code",
      "metadata": {
        "id": "JSmsX_fg4LcO",
        "colab": {
          "base_uri": "https://localhost:8080/"
        },
        "outputId": "a024699c-c010-4c08-a02a-51c753863bcf"
      },
      "source": [
        "y"
      ],
      "execution_count": 67,
      "outputs": [
        {
          "output_type": "execute_result",
          "data": {
            "text/plain": [
              "tensor([[0.],\n",
              "        [0.],\n",
              "        [0.],\n",
              "        ...,\n",
              "        [0.],\n",
              "        [0.],\n",
              "        [0.]])"
            ]
          },
          "metadata": {},
          "execution_count": 67
        }
      ]
    },
    {
      "cell_type": "code",
      "metadata": {
        "id": "oHc9E_96dJBH",
        "colab": {
          "base_uri": "https://localhost:8080/"
        },
        "outputId": "f55a5850-b7ad-480d-98d4-19c4cada56d7"
      },
      "source": [
        "#пропустим через модель наш первый батч, чтобы проверить, что все работает\n",
        "model = MLP(len(id2word), 5)\n",
        "output = model(batch)\n",
        "output"
      ],
      "execution_count": 69,
      "outputs": [
        {
          "output_type": "execute_result",
          "data": {
            "text/plain": [
              "tensor([[0.5625],\n",
              "        [0.5802],\n",
              "        [0.5628],\n",
              "        ...,\n",
              "        [0.6047],\n",
              "        [0.5547],\n",
              "        [0.5955]], grad_fn=<SigmoidBackward0>)"
            ]
          },
          "metadata": {},
          "execution_count": 69
        }
      ]
    },
    {
      "cell_type": "code",
      "metadata": {
        "colab": {
          "base_uri": "https://localhost:8080/"
        },
        "id": "CBWdfROdQK5v",
        "outputId": "ab406c85-da55-4719-f6cb-f0dee5148e09"
      },
      "source": [
        "loss = nn.BCELoss()\n",
        "loss(output, y)"
      ],
      "execution_count": 70,
      "outputs": [
        {
          "output_type": "execute_result",
          "data": {
            "text/plain": [
              "tensor(0.6968, grad_fn=<BinaryCrossEntropyBackward0>)"
            ]
          },
          "metadata": {},
          "execution_count": 70
        }
      ]
    },
    {
      "cell_type": "code",
      "metadata": {
        "id": "PFsH8SWU5E9Z",
        "colab": {
          "base_uri": "https://localhost:8080/"
        },
        "outputId": "7b49fb6d-33c4-4c21-cf54-3f7a5c9533ed"
      },
      "source": [
        "model.state_dict() # где посмотреть веса модели (ее параметры)"
      ],
      "execution_count": 71,
      "outputs": [
        {
          "output_type": "execute_result",
          "data": {
            "text/plain": [
              "OrderedDict([('embedding.weight',\n",
              "              tensor([[-0.7264,  0.9117, -0.2796,  0.1459,  0.8772],\n",
              "                      [ 2.3701, -0.9390, -0.6720,  0.3873,  0.6177],\n",
              "                      [-1.3078, -0.3298, -1.2601,  0.7373, -0.9859],\n",
              "                      ...,\n",
              "                      [-2.4051, -1.1373,  1.2155,  1.8522,  0.4348],\n",
              "                      [-0.1921,  1.5044, -0.6219, -0.1743, -0.0444],\n",
              "                      [-0.1205, -1.8843,  1.4323,  0.7829,  0.1420]])),\n",
              "             ('emb2h.weight',\n",
              "              tensor([[ 0.0139,  0.4043,  0.3107, -0.0921,  0.2627],\n",
              "                      [ 0.1829, -0.4391, -0.2499,  0.4222,  0.1184],\n",
              "                      [ 0.1376, -0.0174, -0.2952, -0.1242,  0.1912],\n",
              "                      [-0.3744,  0.0301,  0.4157,  0.3060,  0.1470],\n",
              "                      [ 0.2710,  0.2957, -0.0750, -0.4330,  0.0622],\n",
              "                      [ 0.3150, -0.4102, -0.2920,  0.1753, -0.4352],\n",
              "                      [ 0.3288,  0.3142,  0.2128,  0.0723, -0.3610],\n",
              "                      [ 0.1902, -0.2340,  0.2820, -0.2821,  0.0734],\n",
              "                      [ 0.0154, -0.0974, -0.3811,  0.2218,  0.3307],\n",
              "                      [ 0.0865, -0.1386, -0.0531, -0.3121,  0.0045]])),\n",
              "             ('emb2h.bias',\n",
              "              tensor([-0.0826, -0.1923, -0.2109, -0.0395,  0.2668, -0.0883, -0.0339,  0.2740,\n",
              "                       0.3850, -0.1343])),\n",
              "             ('h2out.weight',\n",
              "              tensor([[-0.2684, -0.1047, -0.2578,  0.1428,  0.2864, -0.0984, -0.1373, -0.2728,\n",
              "                        0.1352, -0.2894]])),\n",
              "             ('h2out.bias', tensor([0.0655]))])"
            ]
          },
          "metadata": {},
          "execution_count": 71
        }
      ]
    },
    {
      "cell_type": "markdown",
      "metadata": {
        "id": "cYz0OzYT1vt1"
      },
      "source": [
        "#### training loop, логика обучения и валидации"
      ]
    },
    {
      "cell_type": "markdown",
      "metadata": {
        "id": "K8sZOK7Kvk7o"
      },
      "source": [
        "теперь нам нужны функции для обучения и валидации,\n",
        "каждый вызов функции - одна эпоха обучения \n",
        "\n",
        "За одну эпоху нам надо для каждого батча:\n",
        "\n",
        "-- применить к нему модель, \n",
        "\n",
        "-- посчитать значение функции потерь, \n",
        "\n",
        "-- посчитать градиенты,\n",
        "\n",
        "-- обновить веса (параметры модели)\n"
      ]
    },
    {
      "cell_type": "code",
      "metadata": {
        "id": "BVKQzPPI1seJ"
      },
      "source": [
        "def train(model, iterator, optimizer, criterion):\n",
        "    print('Training...')\n",
        "    epoch_loss = 0 # для подсчета среднего лосса на всех батчах\n",
        "    model.train()  # ставим модель в обучение, явно указываем, что сейчас надо будет хранить градиенты у всех весов\n",
        "\n",
        "    for i, (texts, ys) in enumerate(iterator): #итерируемся по батчам\n",
        "        optimizer.zero_grad()  #обнуляем градиенты\n",
        "        #ipdb.set_trace()\n",
        "        preds_proba = model(texts) #прогоняем данные через модель\n",
        "        loss = criterion(preds_proba, ys) #считаем значение функции потерь  \n",
        "        loss.backward() #считаем градиенты  \n",
        "        optimizer.step() #обновляем веса \n",
        "        epoch_loss += loss.item() #сохраняем значение функции потерь\n",
        "        \n",
        "        if not (i + 1) % 20:\n",
        "            print(f'Train loss: {epoch_loss/i}')\n",
        "        \n",
        "    return epoch_loss / len(iterator) # возвращаем среднее значение функции потерь по всей выборке"
      ],
      "execution_count": 74,
      "outputs": []
    },
    {
      "cell_type": "code",
      "metadata": {
        "id": "EPfO7p9x1seK"
      },
      "source": [
        "def evaluate(model, iterator, criterion):\n",
        "    print(\"\\nValidating...\")\n",
        "    epoch_loss = 0\n",
        "    model.eval() \n",
        "    with torch.no_grad():\n",
        "        for i, (texts, ys) in enumerate(iterator):   \n",
        "            predictions = model(texts)  # делаем предсказания на тесте\n",
        "            loss = criterion(predictions, ys)   # считаем значения функции ошибки для статистики  \n",
        "            epoch_loss += loss.item() \n",
        "            if not (i + 1) % 5:\n",
        "              print(f'Val loss: {epoch_loss/i}')\n",
        "        \n",
        "    return epoch_loss / len(iterator) # возвращаем средний лосс по батчам"
      ],
      "execution_count": 78,
      "outputs": []
    },
    {
      "cell_type": "markdown",
      "metadata": {
        "id": "VRoSupMNQsvF"
      },
      "source": [
        "#### инициализируем модель, задаем оптимизатор и функцию потерь"
      ]
    },
    {
      "cell_type": "code",
      "metadata": {
        "id": "WO35IZES1seL"
      },
      "source": [
        "model = MLP(len(word2id), 5)\n",
        "optimizer = optim.Adam(model.parameters(), lr=0.001)\n",
        "criterion = nn.BCELoss() # Binary Cross Entropy\n",
        "\n",
        "# веса модели и значения лосса храним там же, где и все остальные тензоры\n",
        "model = model.to(DEVICE)\n",
        "criterion = criterion.to(DEVICE)"
      ],
      "execution_count": 79,
      "outputs": []
    },
    {
      "cell_type": "markdown",
      "metadata": {
        "id": "3kHbVX0y1seL"
      },
      "source": [
        "#### запуск обучения!"
      ]
    },
    {
      "cell_type": "code",
      "metadata": {
        "id": "boMAjlVM1seM",
        "colab": {
          "base_uri": "https://localhost:8080/"
        },
        "outputId": "e9d98c33-e928-4207-d499-67d1c1dea227"
      },
      "source": [
        "losses = []\n",
        "losses_eval = []\n",
        "\n",
        "for i in range(20):\n",
        "    print(f'\\nstarting Epoch {i}')\n",
        "    epoch_loss = train(model, train_iterator, optimizer, criterion)\n",
        "    losses.append(epoch_loss)\n",
        "\n",
        "    epoch_loss_on_test = evaluate(model, val_iterator, criterion)\n",
        "    losses_eval.append(epoch_loss_on_test)"
      ],
      "execution_count": 81,
      "outputs": [
        {
          "output_type": "stream",
          "name": "stdout",
          "text": [
            "\n",
            "starting Epoch 0\n",
            "Training...\n",
            "Train loss: 0.7189970016479492\n",
            "Train loss: 0.6993474929760664\n",
            "Train loss: 0.6925876888178163\n",
            "Train loss: 0.6887279718737059\n",
            "\n",
            "Validating...\n",
            "Val loss: 0.842970460653305\n",
            "Val loss: 0.7489206790924072\n",
            "\n",
            "starting Epoch 1\n",
            "Training...\n",
            "Train loss: 0.7089811469379225\n",
            "Train loss: 0.6892984799849682\n",
            "Train loss: 0.6820291341361353\n",
            "Train loss: 0.6776881255681002\n",
            "\n",
            "Validating...\n",
            "Val loss: 0.8257678598165512\n",
            "Val loss: 0.7343371709187826\n",
            "\n",
            "starting Epoch 2\n",
            "Training...\n",
            "Train loss: 0.6937072716261211\n",
            "Train loss: 0.6732233533492455\n",
            "Train loss: 0.6662579148502673\n",
            "Train loss: 0.6629102033904836\n",
            "\n",
            "Validating...\n",
            "Val loss: 0.8103078901767731\n",
            "Val loss: 0.719977491431766\n",
            "\n",
            "starting Epoch 3\n",
            "Training...\n",
            "Train loss: 0.6797529427628768\n",
            "Train loss: 0.6607765203867203\n",
            "Train loss: 0.6534266855757115\n",
            "Train loss: 0.6491740896731992\n",
            "\n",
            "Validating...\n",
            "Val loss: 0.7929738163948059\n",
            "Val loss: 0.7053716580073038\n",
            "\n",
            "starting Epoch 4\n",
            "Training...\n",
            "Train loss: 0.664960619650389\n",
            "Train loss: 0.6465478356067951\n",
            "Train loss: 0.6396492709547786\n",
            "Train loss: 0.6359151526342465\n",
            "\n",
            "Validating...\n",
            "Val loss: 0.7765594273805618\n",
            "Val loss: 0.6912944184409248\n",
            "\n",
            "starting Epoch 5\n",
            "Training...\n",
            "Train loss: 0.6524017547306261\n",
            "Train loss: 0.6324359025710669\n",
            "Train loss: 0.6254366262484405\n",
            "Train loss: 0.6220216615290581\n",
            "\n",
            "Validating...\n",
            "Val loss: 0.7631576210260391\n",
            "Val loss: 0.6797590851783752\n",
            "\n",
            "starting Epoch 6\n",
            "Training...\n",
            "Train loss: 0.6392914182261417\n",
            "Train loss: 0.6228291484025809\n",
            "Train loss: 0.6147663371037628\n",
            "Train loss: 0.6106726987452447\n",
            "\n",
            "Validating...\n",
            "Val loss: 0.7511661648750305\n",
            "Val loss: 0.6692053410742018\n",
            "\n",
            "starting Epoch 7\n",
            "Training...\n",
            "Train loss: 0.6287004194761577\n",
            "Train loss: 0.6093633587543781\n",
            "Train loss: 0.6045569353184458\n",
            "Train loss: 0.6012043907672544\n",
            "\n",
            "Validating...\n",
            "Val loss: 0.7419442385435104\n",
            "Val loss: 0.6608050796720717\n",
            "\n",
            "starting Epoch 8\n",
            "Training...\n",
            "Train loss: 0.6163876495863262\n",
            "Train loss: 0.6006067013129209\n",
            "Train loss: 0.5945225509546571\n",
            "Train loss: 0.5903197572201113\n",
            "\n",
            "Validating...\n",
            "Val loss: 0.7327819466590881\n",
            "Val loss: 0.6528038183848063\n",
            "\n",
            "starting Epoch 9\n",
            "Training...\n",
            "Train loss: 0.6083740968453256\n",
            "Train loss: 0.5885417491961749\n",
            "Train loss: 0.5837922773118747\n",
            "Train loss: 0.5804140899754777\n",
            "\n",
            "Validating...\n",
            "Val loss: 0.7249632179737091\n",
            "Val loss: 0.6458105312453376\n",
            "\n",
            "starting Epoch 10\n",
            "Training...\n",
            "Train loss: 0.5921695828437805\n",
            "Train loss: 0.5767415624398452\n",
            "Train loss: 0.5743246442180568\n",
            "Train loss: 0.5726360648493224\n",
            "\n",
            "Validating...\n",
            "Val loss: 0.716750904917717\n",
            "Val loss: 0.6389731301201714\n",
            "\n",
            "starting Epoch 11\n",
            "Training...\n",
            "Train loss: 0.5897031175462824\n",
            "Train loss: 0.5724002978740594\n",
            "Train loss: 0.5674132421865301\n",
            "Train loss: 0.5645271562322786\n",
            "\n",
            "Validating...\n",
            "Val loss: 0.7101155817508698\n",
            "Val loss: 0.6329778167936537\n",
            "\n",
            "starting Epoch 12\n",
            "Training...\n",
            "Train loss: 0.5758373454997414\n",
            "Train loss: 0.5623770814675552\n",
            "Train loss: 0.556626059241214\n",
            "Train loss: 0.5550137403645093\n",
            "\n",
            "Validating...\n",
            "Val loss: 0.7036622911691666\n",
            "Val loss: 0.6280202600691054\n",
            "\n",
            "starting Epoch 13\n",
            "Training...\n",
            "Train loss: 0.5682232442655062\n",
            "Train loss: 0.5565279447115384\n",
            "Train loss: 0.5500067674507529\n",
            "Train loss: 0.548951709572273\n",
            "\n",
            "Validating...\n",
            "Val loss: 0.7004822641611099\n",
            "Val loss: 0.6236494183540344\n",
            "\n",
            "starting Epoch 14\n",
            "Training...\n",
            "Train loss: 0.5637789525483784\n",
            "Train loss: 0.5476210109698467\n",
            "Train loss: 0.5442206182722318\n",
            "Train loss: 0.5416458445259288\n",
            "\n",
            "Validating...\n",
            "Val loss: 0.6940799951553345\n",
            "Val loss: 0.6183764007356432\n",
            "\n",
            "starting Epoch 15\n",
            "Training...\n",
            "Train loss: 0.5556740133385909\n",
            "Train loss: 0.540279935567807\n",
            "Train loss: 0.5355255285562095\n",
            "Train loss: 0.5339592789547353\n",
            "\n",
            "Validating...\n",
            "Val loss: 0.6900619268417358\n",
            "Val loss: 0.614527682463328\n",
            "\n",
            "starting Epoch 16\n",
            "Training...\n",
            "Train loss: 0.5478583809576536\n",
            "Train loss: 0.5338413157524207\n",
            "Train loss: 0.5295453046338033\n",
            "Train loss: 0.5279995067210137\n",
            "\n",
            "Validating...\n",
            "Val loss: 0.686090424656868\n",
            "Val loss: 0.6109884513749017\n",
            "\n",
            "starting Epoch 17\n",
            "Training...\n",
            "Train loss: 0.5457613138776076\n",
            "Train loss: 0.5293951042187519\n",
            "Train loss: 0.5241883240513883\n",
            "Train loss: 0.5220642999003205\n",
            "\n",
            "Validating...\n",
            "Val loss: 0.6819532960653305\n",
            "Val loss: 0.6077750590112474\n",
            "\n",
            "starting Epoch 18\n",
            "Training...\n",
            "Train loss: 0.5332729377244648\n",
            "Train loss: 0.5213815462894928\n",
            "Train loss: 0.5187926060062343\n",
            "Train loss: 0.5168071917340725\n",
            "\n",
            "Validating...\n",
            "Val loss: 0.6790309846401215\n",
            "Val loss: 0.6050640212164985\n",
            "\n",
            "starting Epoch 19\n",
            "Training...\n",
            "Train loss: 0.5339261387523851\n",
            "Train loss: 0.5211152380857712\n",
            "Train loss: 0.5152182801295135\n",
            "Train loss: 0.5125005392334129\n",
            "\n",
            "Validating...\n",
            "Val loss: 0.6766512393951416\n",
            "Val loss: 0.6026289794180129\n"
          ]
        }
      ]
    },
    {
      "cell_type": "code",
      "metadata": {
        "id": "CAiTYQpe1seM",
        "colab": {
          "base_uri": "https://localhost:8080/",
          "height": 295
        },
        "outputId": "aa0982f3-c231-47b9-b8fd-d0ade19ab26d"
      },
      "source": [
        "import matplotlib.pyplot as plt\n",
        "plt.plot(losses)\n",
        "plt.plot(losses_eval)\n",
        "plt.title('BCE loss value')\n",
        "plt.ylabel('BCE loss')\n",
        "plt.xlabel('epoch')\n",
        "plt.legend(['train', 'val'], loc='upper right')\n",
        "plt.show()"
      ],
      "execution_count": 82,
      "outputs": [
        {
          "output_type": "display_data",
          "data": {
            "image/png": "[encoded data removed]",
            "text/plain": [
              "<Figure size 432x288 with 1 Axes>"
            ]
          },
          "metadata": {
            "needs_background": "light"
          }
        }
      ]
    },
    {
      "cell_type": "markdown",
      "metadata": {
        "id": "G_lLwf57g7BC"
      },
      "source": [
        "# как инициализировать модель готовыми эмбеддингами"
      ]
    },
    {
      "cell_type": "code",
      "metadata": {
        "id": "s8clxCNuhFIp"
      },
      "source": [
        "import gensim"
      ],
      "execution_count": 83,
      "outputs": []
    },
    {
      "cell_type": "code",
      "metadata": {
        "id": "mluNWIODDgsj"
      },
      "source": [
        "texts = all_tweets_data.text.apply(preprocess).tolist()"
      ],
      "execution_count": 84,
      "outputs": []
    },
    {
      "cell_type": "code",
      "metadata": {
        "colab": {
          "base_uri": "https://localhost:8080/"
        },
        "id": "y0WgMc-ZrcMo",
        "outputId": "3bdb98f1-9569-420c-ac86-fad919741f87"
      },
      "source": [
        "len(texts)"
      ],
      "execution_count": 85,
      "outputs": [
        {
          "output_type": "execute_result",
          "data": {
            "text/plain": [
              "226834"
            ]
          },
          "metadata": {},
          "execution_count": 85
        }
      ]
    },
    {
      "cell_type": "code",
      "metadata": {
        "colab": {
          "base_uri": "https://localhost:8080/"
        },
        "id": "8KPT0V82jGH5",
        "outputId": "eee55f2c-d832-421d-8bf5-af1c6f8bd71f"
      },
      "source": [
        "%%time\n",
        "w2v = gensim.models.Word2Vec(texts, size=100, window=5, min_count=1)"
      ],
      "execution_count": 86,
      "outputs": [
        {
          "output_type": "stream",
          "name": "stdout",
          "text": [
            "CPU times: user 2min 28s, sys: 3.47 s, total: 2min 32s\n",
            "Wall time: 2min 5s\n"
          ]
        }
      ]
    },
    {
      "cell_type": "code",
      "metadata": {
        "colab": {
          "base_uri": "https://localhost:8080/"
        },
        "id": "0fhjhwxCjJC1",
        "outputId": "24033297-113c-45c8-b3b4-f80e9ea76f74"
      },
      "source": [
        "w2v.wv.most_similar('веселый')\n"
      ],
      "execution_count": 87,
      "outputs": [
        {
          "output_type": "execute_result",
          "data": {
            "text/plain": [
              "[('шикарный', 0.9679120779037476),\n",
              " ('замечательный', 0.9620940685272217),\n",
              " ('офигенный', 0.9620062112808228),\n",
              " ('приятный', 0.9600216150283813),\n",
              " ('прекрасный', 0.9540168046951294),\n",
              " ('ахуенный', 0.9530630111694336),\n",
              " ('интересный', 0.9490739703178406),\n",
              " ('сильный', 0.948347270488739),\n",
              " ('летний', 0.9479907751083374),\n",
              " ('легкий', 0.945224404335022)]"
            ]
          },
          "metadata": {},
          "execution_count": 87
        }
      ]
    },
    {
      "cell_type": "code",
      "metadata": {
        "id": "gHi83qVHqa-m"
      },
      "source": [
        "weights = np.zeros((len(word2id), 100))\n",
        "count = 0\n",
        "for word, i in word2id.items():\n",
        "    if word == 'PAD':\n",
        "        continue   \n",
        "    try:\n",
        "        weights[i] = w2v.wv[word]    \n",
        "    except KeyError:\n",
        "      count += 1\n",
        "      # oov словам сопоставляем случайный вектор\n",
        "      weights[i] = np.random.normal(0,0.1,100)"
      ],
      "execution_count": 88,
      "outputs": []
    },
    {
      "cell_type": "code",
      "metadata": {
        "id": "NHsq7Lpux5aR"
      },
      "source": [
        "class MLP_w2v(nn.Module):\n",
        "    \n",
        "    def __init__(self, vocab_size):\n",
        "        \n",
        "        super().__init__()          \n",
        "        # указываем в атрибутах класса, какие слои и активации нам понадобятся\n",
        "        self.embedding = nn.Embedding(vocab_size, 100)\n",
        "        self.embedding.from_pretrained(torch.tensor(weights), freeze=True)\n",
        "        self.emb2h = nn.Linear(100, 10) \n",
        "        self.act1 = nn.ReLU()\n",
        "        self.dropout = nn.Dropout(p=0.5)\n",
        "        self.h2out = nn.Linear(10, 1)\n",
        "        self.act2 = nn.Sigmoid() \n",
        "        \n",
        "        \n",
        "    def forward(self, text): #необходимый метод,  в нем указываем, как именно связываются слои/активации между собой\n",
        "        \n",
        "        embedded = self.embedding(text)   # переводим последовательность индексов в последовательность эмбеддингов\n",
        "        mean_emb = torch.mean(embedded, dim=1) # считаем средний эмбеддинг предложения\n",
        "        hidden = self.emb2h(mean_emb) # пропускаем эмбеддинг через полносвязный слой \n",
        "        hidden = self.dropout(hidden)\n",
        "        hidden = self.act1(hidden)\n",
        "        hidden = self.dropout(hidden)\n",
        "        out = self.h2out(hidden) # возвращаем одно число для каждого семла\n",
        "        proba = self.act2(out) # пропускаем число через сигмоиду, делая из него вероятность класса\n",
        "        \n",
        "        return proba"
      ],
      "execution_count": 89,
      "outputs": []
    },
    {
      "cell_type": "code",
      "metadata": {
        "id": "IeBN7WHryzdk"
      },
      "source": [
        "model = MLP_w2v(len(word2id))\n",
        "optimizer = optim.Adam(model.parameters(), lr=0.001)\n",
        "criterion = nn.BCELoss() # Binary Cross Entropy\n",
        "\n",
        "# веса модели и значения лосса храним там же, где и все остальные тензоры\n",
        "model = model.to(DEVICE)\n",
        "criterion = criterion.to(DEVICE)"
      ],
      "execution_count": 98,
      "outputs": []
    },
    {
      "cell_type": "code",
      "metadata": {
        "id": "t07vQjj0y8HM",
        "colab": {
          "base_uri": "https://localhost:8080/"
        },
        "outputId": "6bedd3cf-7f4c-43d1-a3f7-d4637f949e85"
      },
      "source": [
        "losses = []\n",
        "losses_eval = []\n",
        "\n",
        "for i in range(12):\n",
        "    print(f'\\nstarting Epoch {i}')\n",
        "    epoch_loss = train(model, train_iterator, optimizer, criterion)\n",
        "    losses.append(epoch_loss)\n",
        "\n",
        "    epoch_loss_on_test = evaluate(model, val_iterator, criterion)\n",
        "    losses_eval.append(epoch_loss_on_test)"
      ],
      "execution_count": 99,
      "outputs": [
        {
          "output_type": "stream",
          "name": "stdout",
          "text": [
            "\n",
            "starting Epoch 0\n",
            "Training...\n",
            "Train loss: 0.7309499853535703\n",
            "Train loss: 0.7118812646621313\n",
            "Train loss: 0.7055377101494094\n",
            "Train loss: 0.7021082096462008\n",
            "\n",
            "Validating...\n",
            "Val loss: 0.863175630569458\n",
            "Val loss: 0.7671780387560526\n",
            "\n",
            "starting Epoch 1\n",
            "Training...\n",
            "Train loss: 0.727609163836429\n",
            "Train loss: 0.7078027786352695\n",
            "Train loss: 0.7011885067163888\n",
            "Train loss: 0.6972869453550894\n",
            "\n",
            "Validating...\n",
            "Val loss: 0.854070395231247\n",
            "Val loss: 0.7582507332166036\n",
            "\n",
            "starting Epoch 2\n",
            "Training...\n",
            "Train loss: 0.7182435958009017\n",
            "Train loss: 0.6986031486437871\n",
            "Train loss: 0.6911022875268581\n",
            "Train loss: 0.686661772335632\n",
            "\n",
            "Validating...\n",
            "Val loss: 0.8345714509487152\n",
            "Val loss: 0.7412925561269125\n",
            "\n",
            "starting Epoch 3\n",
            "Training...\n",
            "Train loss: 0.7009571414244803\n",
            "Train loss: 0.6813713480264713\n",
            "Train loss: 0.6739861217595763\n",
            "Train loss: 0.6685849382907529\n",
            "\n",
            "Validating...\n",
            "Val loss: 0.8048515170812607\n",
            "Val loss: 0.715713103612264\n",
            "\n",
            "starting Epoch 4\n",
            "Training...\n",
            "Train loss: 0.6797273504106622\n",
            "Train loss: 0.6604803296235892\n",
            "Train loss: 0.6530670099339243\n",
            "Train loss: 0.6475305247910416\n",
            "\n",
            "Validating...\n",
            "Val loss: 0.7730749249458313\n",
            "Val loss: 0.6885035766495599\n",
            "\n",
            "starting Epoch 5\n",
            "Training...\n",
            "Train loss: 0.6536243118737873\n",
            "Train loss: 0.6348390884888477\n",
            "Train loss: 0.6282682843127493\n",
            "Train loss: 0.6224770259253586\n",
            "\n",
            "Validating...\n",
            "Val loss: 0.7401732206344604\n",
            "Val loss: 0.6589859922726949\n",
            "\n",
            "starting Epoch 6\n",
            "Training...\n",
            "Train loss: 0.62943182493511\n",
            "Train loss: 0.6101675492066604\n",
            "Train loss: 0.6023616578619359\n",
            "Train loss: 0.5975776277010953\n",
            "\n",
            "Validating...\n",
            "Val loss: 0.7237584590911865\n",
            "Val loss: 0.6460558440950182\n",
            "\n",
            "starting Epoch 7\n",
            "Training...\n",
            "Train loss: 0.608282186483082\n",
            "Train loss: 0.5879286680466089\n",
            "Train loss: 0.5826111516710055\n",
            "Train loss: 0.5785839225672469\n",
            "\n",
            "Validating...\n",
            "Val loss: 0.7037526667118073\n",
            "Val loss: 0.6287814180056254\n",
            "\n",
            "starting Epoch 8\n",
            "Training...\n",
            "Train loss: 0.5891385894072684\n",
            "Train loss: 0.5716971632761833\n",
            "Train loss: 0.5650316325284667\n",
            "Train loss: 0.5615128489989268\n",
            "\n",
            "Validating...\n",
            "Val loss: 0.6813181340694427\n",
            "Val loss: 0.6082420945167542\n",
            "\n",
            "starting Epoch 9\n",
            "Training...\n",
            "Train loss: 0.572758884806382\n",
            "Train loss: 0.5547379973607186\n",
            "Train loss: 0.5509566088854256\n",
            "Train loss: 0.5483563889431048\n",
            "\n",
            "Validating...\n",
            "Val loss: 0.6736791580915451\n",
            "Val loss: 0.6012060774697198\n",
            "\n",
            "starting Epoch 10\n",
            "Training...\n",
            "Train loss: 0.5608403870933935\n",
            "Train loss: 0.5443173539944184\n",
            "Train loss: 0.5395733133210974\n",
            "Train loss: 0.5370576347731337\n",
            "\n",
            "Validating...\n",
            "Val loss: 0.6680648922920227\n",
            "Val loss: 0.5951322913169861\n",
            "\n",
            "starting Epoch 11\n",
            "Training...\n",
            "Train loss: 0.5402064135200099\n",
            "Train loss: 0.5284923315048218\n",
            "Train loss: 0.5256854563446368\n",
            "Train loss: 0.5236162233956253\n",
            "\n",
            "Validating...\n",
            "Val loss: 0.6604635566473007\n",
            "Val loss: 0.5881723297966851\n"
          ]
        }
      ]
    },
    {
      "cell_type": "code",
      "metadata": {
        "id": "UHhM8MiEzVtl",
        "colab": {
          "base_uri": "https://localhost:8080/",
          "height": 295
        },
        "outputId": "f6af6960-8ef1-4d9f-9ab3-74e39f8e1d81"
      },
      "source": [
        "import matplotlib.pyplot as plt\n",
        "plt.plot(losses)\n",
        "plt.plot(losses_eval)\n",
        "plt.title('BCE loss value')\n",
        "plt.ylabel('BCE loss')\n",
        "plt.xlabel('epoch')\n",
        "plt.legend(['train', 'val'], loc='upper right')\n",
        "plt.show()"
      ],
      "execution_count": 100,
      "outputs": [
        {
          "output_type": "display_data",
          "data": {
            "image/png": "[encoded data removed]",
            "text/plain": [
              "<Figure size 432x288 with 1 Axes>"
            ]
          },
          "metadata": {
            "needs_background": "light"
          }
        }
      ]
    },
    {
      "cell_type": "code",
      "metadata": {
        "id": "XINPo63-sb8S"
      },
      "source": [
        ""
      ],
      "execution_count": null,
      "outputs": []
    }
  ]
}